{
  "nbformat": 4,
  "nbformat_minor": 0,
  "metadata": {
    "colab": {
      "provenance": []
    },
    "kernelspec": {
      "name": "python3",
      "display_name": "Python 3"
    },
    "language_info": {
      "name": "python"
    }
  },
  "cells": [
    {
      "cell_type": "markdown",
      "source": [
        "### Network Inversion for Uncertainty-Aware Out-of-Distribution Detection"
      ],
      "metadata": {
        "id": "hFhAgGLKPZHP"
      }
    },
    {
      "cell_type": "code",
      "execution_count": null,
      "metadata": {
        "id": "XjBTORPULKcc"
      },
      "outputs": [],
      "source": [
        "import torch\n",
        "import torchvision\n",
        "import torchvision.transforms as transforms\n",
        "import matplotlib.pyplot as plt\n",
        "import numpy as np"
      ]
    },
    {
      "cell_type": "code",
      "source": [
        "transform = transforms.Compose([\n",
        "    transforms.ToTensor(),\n",
        "    transforms.Normalize((0.5,),(0.5,))   # For grayscale images (MNIST, FMNIST)\n",
        "])"
      ],
      "metadata": {
        "id": "093nm8DXO1MK"
      },
      "execution_count": null,
      "outputs": []
    },
    {
      "cell_type": "markdown",
      "source": [
        "### Datasets"
      ],
      "metadata": {
        "id": "GeJLd-xAwMfv"
      }
    },
    {
      "cell_type": "code",
      "source": [
        "# MNIST Dataset\n",
        "mnist_train = torchvision.datasets.MNIST(root='./data', train=True, download=True, transform=transform)\n",
        "mnist_test = torchvision.datasets.MNIST(root='./data', train=False, download=True, transform=transform)\n",
        "\n",
        "# FashionMNIST Dataset\n",
        "fmnist_train = torchvision.datasets.FashionMNIST(root='./data', train=True, download=True, transform=transform)\n",
        "fmnist_test = torchvision.datasets.FashionMNIST(root='./data', train=False, download=True, transform=transform)"
      ],
      "metadata": {
        "collapsed": true,
        "id": "QuBtLBNYOyGR"
      },
      "execution_count": null,
      "outputs": []
    },
    {
      "cell_type": "code",
      "source": [
        "from torch.utils.data import ConcatDataset\n",
        "\n",
        "full_mnist = ConcatDataset([mnist_train, mnist_test])\n",
        "full_fmnist = ConcatDataset([fmnist_train, fmnist_test])"
      ],
      "metadata": {
        "id": "engxssYyCauE"
      },
      "execution_count": null,
      "outputs": []
    },
    {
      "cell_type": "code",
      "source": [
        "from torch.utils.data import TensorDataset\n",
        "mnist_images = torch.stack([img for img, _ in full_mnist])\n",
        "mnist_labels = torch.tensor([label for _, label in full_mnist], dtype=torch.long)\n",
        "mnist_dataset = TensorDataset(mnist_images, mnist_labels)"
      ],
      "metadata": {
        "id": "r5RdIU9e8Pak"
      },
      "execution_count": null,
      "outputs": []
    },
    {
      "cell_type": "code",
      "source": [
        "from torch.utils.data import TensorDataset\n",
        "\n",
        "def map_labels_to_garbage(dataset, garbage_label=10):\n",
        "\n",
        "    images, labels = [], []\n",
        "    for img, _ in dataset:\n",
        "        images.append(img)\n",
        "        labels.append(garbage_label)\n",
        "    images = torch.stack(images)\n",
        "    labels = torch.tensor(labels, dtype=torch.long)\n",
        "    return TensorDataset(images, labels)"
      ],
      "metadata": {
        "id": "xmZ9h5X6TIK6"
      },
      "execution_count": null,
      "outputs": []
    },
    {
      "cell_type": "code",
      "source": [
        "ood_test_dataset = map_labels_to_garbage(full_fmnist, garbage_label=10)"
      ],
      "metadata": {
        "id": "BP3mXM_1V-E8"
      },
      "execution_count": null,
      "outputs": []
    },
    {
      "cell_type": "markdown",
      "source": [
        "### Gaussian Noise Samples for Garbage Class"
      ],
      "metadata": {
        "id": "jY-2rFQzYFTj"
      }
    },
    {
      "cell_type": "code",
      "source": [
        "from torch.utils.data import DataLoader\n",
        "\n",
        "# Parameters for noise generation\n",
        "num_noise_samples = 7000\n",
        "channels, height, width = 1, 28, 28\n",
        "\n",
        "# Generate Gaussian noise samples (standard normal distribution)\n",
        "noise_samples = torch.randn(num_noise_samples, channels, height, width)\n",
        "\n",
        "# Create labels for these noise samples (all set to 10, the garbage class)\n",
        "garbage_labels = torch.full((num_noise_samples,), 10, dtype=torch.long)\n",
        "\n",
        "# Create a dataset for the noise samples\n",
        "noise_dataset = TensorDataset(noise_samples, garbage_labels)\n",
        "\n",
        "# Combine the full MNIST dataset with the noise dataset\n",
        "combined_mnist = ConcatDataset([mnist_dataset, noise_dataset])"
      ],
      "metadata": {
        "id": "lBIiLhjAXY0A"
      },
      "execution_count": null,
      "outputs": []
    },
    {
      "cell_type": "code",
      "source": [
        "# print dataset sizes for verification\n",
        "print(\"Full MNIST size:\", len(full_mnist))\n",
        "print(\"Noise dataset size:\", len(noise_dataset))\n",
        "print(\"Combined MNIST size:\", len(combined_mnist))"
      ],
      "metadata": {
        "colab": {
          "base_uri": "https://localhost:8080/"
        },
        "id": "WDVEtPLMXYwn",
        "outputId": "cf93b6ca-17b3-404f-8978-a91ed9f7f1eb"
      },
      "execution_count": null,
      "outputs": [
        {
          "output_type": "stream",
          "name": "stdout",
          "text": [
            "Full MNIST size: 70000\n",
            "Noise dataset size: 7000\n",
            "Combined MNIST size: 77000\n"
          ]
        }
      ]
    },
    {
      "cell_type": "code",
      "source": [
        "# Create a DataLoader for the combined dataset\n",
        "batch_size = 64\n",
        "train_loader = DataLoader(combined_mnist, batch_size=batch_size, shuffle=True)\n",
        "test_loader  = DataLoader(ood_test_dataset, batch_size=batch_size, shuffle=False)"
      ],
      "metadata": {
        "id": "Q4pQlwEWYoVi"
      },
      "execution_count": null,
      "outputs": []
    },
    {
      "cell_type": "code",
      "source": [
        "import matplotlib.pyplot as plt\n",
        "import numpy as np\n",
        "\n",
        "# Number of samples per dataset\n",
        "num_samples = 8\n",
        "\n",
        "# Select samples from each dataset\n",
        "mnist_images, _ = zip(*[full_mnist[i] for i in range(num_samples)])\n",
        "fmnist_images, _ = zip(*[full_fmnist[i] for i in range(num_samples)])\n",
        "noise_images, _ = zip(*[noise_dataset[i] for i in range(num_samples)])\n",
        "\n",
        "# Convert tensors to NumPy arrays\n",
        "mnist_images = [img.numpy() for img in mnist_images]\n",
        "fmnist_images = [img.numpy() for img in fmnist_images]\n",
        "noise_images = [img.numpy() for img in noise_images]\n",
        "\n",
        "# Function to plot images for a given dataset\n",
        "def plot_images(images, title):\n",
        "    fig, axes = plt.subplots(1, num_samples, figsize=(12, 2))\n",
        "    for i in range(num_samples):\n",
        "        axes[i].imshow(images[i][0], cmap=\"gray\")  # Grayscale image\n",
        "        axes[i].axis(\"off\")\n",
        "    plt.suptitle(title, fontsize=14, fontweight=\"bold\")\n",
        "    plt.show()\n",
        "\n",
        "# Plot each dataset separately\n",
        "plot_images(mnist_images, \"MNIST Digits\")\n",
        "plot_images(fmnist_images, \"FashionMNIST\")\n",
        "plot_images(noise_images, \"Gaussian Noise\")"
      ],
      "metadata": {
        "colab": {
          "base_uri": "https://localhost:8080/",
          "height": 435
        },
        "id": "70d4lBMNcvRF",
        "outputId": "8299d8f5-7a07-47c8-bb39-8fb4d5e55d83"
      },
      "execution_count": null,
      "outputs": [
        {
          "output_type": "display_data",
          "data": {
            "text/plain": [
              "<Figure size 1200x200 with 8 Axes>"
            ],
            "image/png": "[encoded data removed]"
          },
          "metadata": {}
        },
        {
          "output_type": "display_data",
          "data": {
            "text/plain": [
              "<Figure size 1200x200 with 8 Axes>"
            ],
            "image/png": "[encoded data removed]"
          },
          "metadata": {}
        },
        {
          "output_type": "display_data",
          "data": {
            "text/plain": [
              "<Figure size 1200x200 with 8 Axes>"
            ],
            "image/png": "[encoded data removed]"
          },
          "metadata": {}
        }
      ]
    },
    {
      "cell_type": "markdown",
      "source": [
        "# Classifier"
      ],
      "metadata": {
        "id": "9hO-xhZjbrKQ"
      }
    },
    {
      "cell_type": "code",
      "source": [
        "import torch.nn as nn\n",
        "import torch.nn.functional as F\n",
        "import torch.optim as optim\n",
        "\n",
        "# Define the extended CNN that outputs 11 classes\n",
        "\n",
        "class ExtendedCNN(nn.Module):\n",
        "    def __init__(self, num_classes=10):\n",
        "        super(ExtendedCNN, self).__init__()\n",
        "        # Convolutional layers\n",
        "        self.conv1 = nn.Conv2d(1, 32, kernel_size=3, padding=1)\n",
        "        self.bn1   = nn.BatchNorm2d(32)\n",
        "        self.conv2 = nn.Conv2d(32, 64, kernel_size=3, padding=1)\n",
        "        self.bn2   = nn.BatchNorm2d(64)\n",
        "        self.pool  = nn.MaxPool2d(2, 2)\n",
        "        # Fully connected layers\n",
        "        self.fc1   = nn.Linear(64 * 7 * 7, 128)\n",
        "        self.dropout = nn.Dropout(0.5)\n",
        "        # num_classes + 1 for garbage class (i.e., 11 outputs)\n",
        "        self.fc2   = nn.Linear(128, num_classes + 1)\n",
        "\n",
        "    def forward(self, x):\n",
        "      # Convolutional layers + pooling\n",
        "      x = F.leaky_relu(self.bn1(self.conv1(x)))\n",
        "      x = self.pool(x)\n",
        "      x = F.leaky_relu(self.bn2(self.conv2(x)))\n",
        "      x = self.pool(x)\n",
        "\n",
        "      # Flatten\n",
        "      x = x.view(x.size(0), -1)\n",
        "\n",
        "      # Penultimate layer: fc1 and dropout\n",
        "      features = F.leaky_relu(self.fc1(x))\n",
        "      features = self.dropout(features)\n",
        "\n",
        "      # Final logits\n",
        "      logits = self.fc2(features)\n",
        "\n",
        "      return logits, features"
      ],
      "metadata": {
        "id": "camXXNAUXYhz"
      },
      "execution_count": null,
      "outputs": []
    },
    {
      "cell_type": "code",
      "source": [
        "# Set up device, instantiate model, loss, and optimizer\n",
        "device = torch.device(\"cuda\" if torch.cuda.is_available() else \"cpu\")\n",
        "model = ExtendedCNN(num_classes=10).to(device)\n",
        "criterion = nn.CrossEntropyLoss()\n",
        "optimizer = optim.Adam(model.parameters(), lr=0.001)"
      ],
      "metadata": {
        "id": "qCZy_KZ5XYeT"
      },
      "execution_count": null,
      "outputs": []
    },
    {
      "cell_type": "code",
      "source": [
        "device"
      ],
      "metadata": {
        "colab": {
          "base_uri": "https://localhost:8080/"
        },
        "id": "jKuM2T_D1Bpg",
        "outputId": "b850fb27-fd9f-42d0-b814-2d519c5ea92e"
      },
      "execution_count": null,
      "outputs": [
        {
          "output_type": "execute_result",
          "data": {
            "text/plain": [
              "device(type='cuda')"
            ]
          },
          "metadata": {},
          "execution_count": 14
        }
      ]
    },
    {
      "cell_type": "code",
      "source": [
        "from google.colab import drive\n",
        "import os\n",
        "\n",
        "# Mount Google Drive\n",
        "drive.mount('/content/drive')"
      ],
      "metadata": {
        "colab": {
          "base_uri": "https://localhost:8080/"
        },
        "id": "SCpqkwyVsEsx",
        "outputId": "df87e582-22a6-4900-8de1-e9bcc4a27f34"
      },
      "execution_count": null,
      "outputs": [
        {
          "output_type": "stream",
          "name": "stdout",
          "text": [
            "Drive already mounted at /content/drive; to attempt to forcibly remount, call drive.mount(\"/content/drive\", force_remount=True).\n"
          ]
        }
      ]
    },
    {
      "cell_type": "code",
      "source": [
        "# Directory in Google Drive to store checkpoints\n",
        "checkpoint_dir = \"/content/drive/MyDrive/OOD_RnD\"\n",
        "os.makedirs(checkpoint_dir, exist_ok=True)"
      ],
      "metadata": {
        "id": "tcilqmzNtjw6"
      },
      "execution_count": null,
      "outputs": []
    },
    {
      "cell_type": "code",
      "source": [
        "import os\n",
        "import torch\n",
        "import torch.nn.functional as F\n",
        "\n",
        "def train_classifier(train_loader,  checkpoint_dir, num_epochs=5,):\n",
        "\n",
        "    train_losses = []\n",
        "    train_accuracies = []\n",
        "\n",
        "    # Ensure checkpoint directory exists\n",
        "    os.makedirs(checkpoint_dir, exist_ok=True)\n",
        "\n",
        "    for epoch in range(num_epochs):\n",
        "        model.train()\n",
        "        running_loss = 0.0\n",
        "        correct = 0\n",
        "        total = 0\n",
        "\n",
        "        for images, labels in train_loader:\n",
        "            images, labels = images.to(device), labels.to(device)\n",
        "            optimizer.zero_grad()\n",
        "            logits, features = model(images)\n",
        "            loss = criterion(logits, labels)\n",
        "            loss.backward()\n",
        "            optimizer.step()\n",
        "\n",
        "            running_loss += loss.item()\n",
        "            _, predicted = torch.max(logits, 1)\n",
        "            total += labels.size(0)\n",
        "            correct += (predicted == labels).sum().item()\n",
        "\n",
        "        epoch_loss = running_loss / len(train_loader)\n",
        "        epoch_acc = 100.0 * correct / total\n",
        "        train_losses.append(epoch_loss)\n",
        "        train_accuracies.append(epoch_acc)\n",
        "\n",
        "        # Save checkpoint\n",
        "        checkpoint_path = os.path.join(checkpoint_dir, f'checkpoint_epoch_{epoch+1}.pt')\n",
        "        torch.save({\n",
        "            'epoch': epoch + 1,\n",
        "            'model_state_dict': model.state_dict(),\n",
        "            'optimizer_state_dict': optimizer.state_dict(),\n",
        "            'loss': epoch_loss,\n",
        "             }, checkpoint_path)\n",
        "        print(f\"Epoch [{epoch+1}/{num_epochs}] - Loss: {epoch_loss:.4f}, Accuracy: {epoch_acc:.2f}%\")\n",
        "\n",
        "    return model, train_losses, train_accuracies"
      ],
      "metadata": {
        "id": "7TOoHFL-XYa8",
        "collapsed": true
      },
      "execution_count": null,
      "outputs": []
    },
    {
      "cell_type": "code",
      "source": [
        "model , train_losses, train_acc = train_classifier(train_loader, checkpoint_dir, num_epochs=5)"
      ],
      "metadata": {
        "colab": {
          "base_uri": "https://localhost:8080/"
        },
        "id": "F8L2DpOkN23t",
        "outputId": "b3ce7561-3b95-4d38-95f8-d40594ec840e"
      },
      "execution_count": null,
      "outputs": [
        {
          "output_type": "stream",
          "name": "stdout",
          "text": [
            "Epoch [1/5] - Loss: 0.1615, Accuracy: 95.06%\n",
            "Epoch [2/5] - Loss: 0.0670, Accuracy: 97.99%\n",
            "Epoch [3/5] - Loss: 0.0518, Accuracy: 98.43%\n",
            "Epoch [4/5] - Loss: 0.0418, Accuracy: 98.68%\n",
            "Epoch [5/5] - Loss: 0.0360, Accuracy: 98.90%\n"
          ]
        }
      ]
    },
    {
      "cell_type": "code",
      "source": [
        "num_epochs = 5\n",
        "# Plot Loss and Accuracy curves\n",
        "epochs = range(1, num_epochs+1)\n",
        "plt.figure(figsize=(6,3))\n",
        "plt.subplot(1,2,1)\n",
        "plt.plot(epochs, train_losses, marker='o')\n",
        "plt.title('Training Loss')\n",
        "plt.xlabel('Epoch')\n",
        "plt.ylabel('Loss')\n",
        "\n",
        "plt.subplot(1,2,2)\n",
        "plt.plot(epochs, train_acc , marker='o', color='green')\n",
        "plt.title('Training Accuracy')\n",
        "plt.xlabel('Epoch')\n",
        "plt.ylabel('Accuracy (%)')\n",
        "plt.tight_layout()\n",
        "plt.show()"
      ],
      "metadata": {
        "colab": {
          "base_uri": "https://localhost:8080/",
          "height": 307
        },
        "id": "cFdBvGo_XYXx",
        "outputId": "5c9b8d1f-8584-4505-ec5a-472d06c6fcff"
      },
      "execution_count": null,
      "outputs": [
        {
          "output_type": "display_data",
          "data": {
            "text/plain": [
              "<Figure size 600x300 with 2 Axes>"
            ],
            "image/png": "[encoded data removed]"
          },
          "metadata": {}
        }
      ]
    },
    {
      "cell_type": "code",
      "source": [
        "def test_classifier(test_loader, model, criterion, device):\n",
        "\n",
        "    model.eval()  # Set model to evaluation mode\n",
        "    running_loss = 0.0\n",
        "    correct = 0\n",
        "    total = 0\n",
        "\n",
        "    with torch.no_grad():  # No gradient computation during evaluation\n",
        "        for images, labels in test_loader:\n",
        "            images, labels = images.to(device), labels.to(device)\n",
        "            logits, features = model(images)\n",
        "            loss = criterion(logits, labels)\n",
        "            running_loss += loss.item()\n",
        "\n",
        "            # Get predictions and update correct counts\n",
        "            _, predicted = torch.max(logits, 1)\n",
        "            total += labels.size(0)\n",
        "            correct += (predicted == labels).sum().item()\n",
        "\n",
        "    test_loss = running_loss / len(test_loader)\n",
        "    test_acc = 100.0 * correct / total\n",
        "    print(f\"Test Loss: {test_loss:.4f}, Test Accuracy: {test_acc:.2f}%\")\n",
        "    return test_loss, test_acc"
      ],
      "metadata": {
        "id": "Rc1TDT9SFQqg"
      },
      "execution_count": null,
      "outputs": []
    },
    {
      "cell_type": "code",
      "source": [
        "test_loss, test_acc = test_classifier(test_loader, model, criterion, device)"
      ],
      "metadata": {
        "colab": {
          "base_uri": "https://localhost:8080/"
        },
        "id": "LGXflviDSkJ3",
        "outputId": "f50adbc4-b00e-4d9f-f899-e370c8d870c3"
      },
      "execution_count": null,
      "outputs": [
        {
          "output_type": "stream",
          "name": "stdout",
          "text": [
            "Test Loss: 7.9202, Test Accuracy: 3.35%\n"
          ]
        }
      ]
    },
    {
      "cell_type": "code",
      "source": [
        "# Function to find the latest checkpoint\n",
        "def find_latest_checkpoint(checkpoint_dir):\n",
        "    # List all files in the checkpoint directory\n",
        "    checkpoint_files = os.listdir(checkpoint_dir)\n",
        "\n",
        "    # Filter files that match the checkpoint pattern (e.g., checkpoint_epoch_X.pt)\n",
        "    checkpoint_files = [f for f in checkpoint_files if f.startswith(\"checkpoint_epoch_\") and f.endswith(\".pt\")]\n",
        "\n",
        "    if not checkpoint_files:\n",
        "        raise FileNotFoundError(\"No checkpoint files found in the directory.\")\n",
        "\n",
        "    # Extract epoch numbers from filenames\n",
        "    epoch_numbers = [int(re.search(r\"checkpoint_epoch_(\\d+).pt\", f).group(1)) for f in checkpoint_files]\n",
        "\n",
        "    # Find the file with the highest epoch number\n",
        "    latest_epoch = max(epoch_numbers)\n",
        "    latest_checkpoint = f\"checkpoint_epoch_{latest_epoch}.pt\"\n",
        "    latest_checkpoint_path = os.path.join(checkpoint_dir, latest_checkpoint)\n",
        "\n",
        "    return latest_checkpoint_path"
      ],
      "metadata": {
        "id": "8MXjdy_EZNa3"
      },
      "execution_count": null,
      "outputs": []
    },
    {
      "cell_type": "code",
      "source": [
        "import re\n",
        "\n",
        "# Find and load the latest checkpoint\n",
        "latest_checkpoint_path = find_latest_checkpoint(checkpoint_dir)\n",
        "print(f\"Loading latest checkpoint: {latest_checkpoint_path}\")\n",
        "\n",
        "# Load the model\n",
        "model_with_features = ExtendedCNN(num_classes=10).to(device)\n",
        "checkpoint = torch.load(latest_checkpoint_path, map_location=device,weights_only=True)\n",
        "model_with_features.load_state_dict(checkpoint['model_state_dict'])\n",
        "model_with_features.eval()\n",
        "\n",
        "# Get a batch of images\n",
        "images, labels = next(iter(train_loader))\n",
        "images = images.to(device)\n",
        "\n",
        "# Forward pass to get features\n",
        "with torch.no_grad():\n",
        "    logits, features = model_with_features(images)\n",
        "\n",
        "# Move features to CPU and convert to numpy\n",
        "features_np = features.cpu().numpy()\n",
        "labels_np = labels.cpu().numpy()\n",
        "\n",
        "# PCA to visualize these features\n",
        "from sklearn.decomposition import PCA\n",
        "import matplotlib.pyplot as plt\n",
        "\n",
        "pca = PCA(n_components=2)\n",
        "features_2d = pca.fit_transform(features_np)\n",
        "\n",
        "plt.figure(figsize=(4, 4))\n",
        "scatter = plt.scatter(features_2d[:, 0], features_2d[:, 1], c=labels_np, cmap='viridis', alpha=0.7)\n",
        "plt.colorbar(scatter)\n",
        "plt.title(\"PCA of Feature Representations\")\n",
        "plt.show()"
      ],
      "metadata": {
        "colab": {
          "base_uri": "https://localhost:8080/",
          "height": 408
        },
        "id": "dXPBfdC8JD-K",
        "outputId": "6d6ae594-7aef-403a-8c38-89aa1630e4d4"
      },
      "execution_count": null,
      "outputs": [
        {
          "output_type": "stream",
          "name": "stdout",
          "text": [
            "Loading latest checkpoint: /content/drive/MyDrive/OOD_RnD/checkpoint_epoch_5.pt\n"
          ]
        },
        {
          "output_type": "display_data",
          "data": {
            "text/plain": [
              "<Figure size 400x400 with 2 Axes>"
            ],
            "image/png": "[encoded data removed]"
          },
          "metadata": {}
        }
      ]
    },
    {
      "cell_type": "code",
      "source": [
        "from sklearn.manifold import TSNE\n",
        "\n",
        "# Apply t-SNE to reduce features to 2 dimensions\n",
        "tsne = TSNE(n_components=2, random_state=42)\n",
        "features_2d_tsne = tsne.fit_transform(features_np)\n",
        "\n",
        "plt.figure(figsize=(4,4))\n",
        "scatter = plt.scatter(features_2d_tsne[:, 0], features_2d_tsne[:, 1], c=labels_np, cmap='viridis', alpha=0.7)\n",
        "plt.colorbar(scatter)\n",
        "plt.title(\"t-SNE of Feature Representations\")\n",
        "plt.show()"
      ],
      "metadata": {
        "colab": {
          "base_uri": "https://localhost:8080/",
          "height": 391
        },
        "id": "8BxIxc-QKtXb",
        "outputId": "703e966c-9a97-441b-d83f-65ff4d018e5c"
      },
      "execution_count": null,
      "outputs": [
        {
          "output_type": "display_data",
          "data": {
            "text/plain": [
              "<Figure size 400x400 with 2 Axes>"
            ],
            "image/png": "[encoded data removed]"
          },
          "metadata": {}
        }
      ]
    },
    {
      "cell_type": "markdown",
      "source": [
        "# Generator"
      ],
      "metadata": {
        "id": "131L2gw_A6ZY"
      }
    },
    {
      "cell_type": "code",
      "source": [
        "import torch\n",
        "import torch.nn as nn\n",
        "import torch.nn.functional as F\n",
        "\n",
        "class InversionGenerator(nn.Module):\n",
        "    def __init__(self, latent_dim, num_classes, image_size):\n",
        "        super(InversionGenerator, self).__init__()\n",
        "        self.latent_dim = latent_dim\n",
        "        self.num_classes = num_classes\n",
        "        self.image_size = image_size\n",
        "\n",
        "        # Fully connected layer to map the concatenated latent vector and conditioning vector\n",
        "        # The input dimension is latent_dim + num_classes\n",
        "        # Map this to a feature map that can be reshaped to (128, 7, 7)\n",
        "        self.fc = nn.Linear(latent_dim + num_classes, 128 * 7 * 7)\n",
        "\n",
        "        # Upsampling blocks: Combination of Upsample, Conv2d, BatchNorm, and ReLU\n",
        "        # The final image is produced with a Tanh activation to output pixel values in [-1, 1]\n",
        "        self.up_blocks = nn.Sequential(\n",
        "            nn.BatchNorm2d(128),\n",
        "            nn.Upsample(scale_factor=2),  # transforms 7x7 -> 14x14\n",
        "            nn.Conv2d(128, 64, kernel_size=3, padding=1),\n",
        "            nn.BatchNorm2d(64),\n",
        "            nn.ReLU(inplace=True),   # can use leaky relu\n",
        "\n",
        "            nn.Upsample(scale_factor=2),  # transforms 14x14 -> 28x28\n",
        "            nn.Conv2d(64, 1, kernel_size=3, padding=1),\n",
        "            nn.Tanh()  # outputs in range [-1, 1]\n",
        "        )\n",
        "\n",
        "    def forward(self, z, cond):\n",
        "\n",
        "        # Concatenate the latent vector and conditioning vector\n",
        "        x = torch.cat([z, cond], dim=1)   # Shape: [B, latent_dim + num_classes]\n",
        "\n",
        "        # Map the combined vector to a feature map and reshape it to 4D\n",
        "        x = self.fc(x)                    # Shape: [B, 128 * 7 * 7]\n",
        "        x = x.view(-1, 128, 7, 7)         # Reshape to [B, 128, 7, 7]\n",
        "\n",
        "        # Upsample the feature map to the final image size\n",
        "        out = self.up_blocks(x)           # Shape: [B, 1, 28, 28]\n",
        "        return out"
      ],
      "metadata": {
        "id": "AN0gSIAqXYUP"
      },
      "execution_count": null,
      "outputs": []
    },
    {
      "cell_type": "code",
      "source": [
        "latent_dim = 100\n",
        "num_classes = 10\n",
        "generator = InversionGenerator(latent_dim, num_classes, image_size=28)"
      ],
      "metadata": {
        "id": "StqmpK_gXYQy"
      },
      "execution_count": null,
      "outputs": []
    },
    {
      "cell_type": "code",
      "source": [
        "# Generate a random latent vector and a random conditioning vector\n",
        "batch_size = 500\n",
        "z = torch.randn(batch_size, latent_dim)\n",
        "\n",
        "# For conditioning: generate random values then apply softmax to simulate a distribution\n",
        "cond_raw = torch.randn(batch_size, num_classes)\n",
        "cond_dist = F.softmax(cond_raw, dim=1)\n",
        "\n",
        "# Generate images\n",
        "gen_images = generator(z, cond_dist)\n",
        "print(\"Generated images shape:\", gen_images.shape)  # Should be [500, 1, 28, 28]"
      ],
      "metadata": {
        "colab": {
          "base_uri": "https://localhost:8080/"
        },
        "id": "DZY93rFmfpvF",
        "outputId": "11ee1306-96f8-4fac-e1dc-b985c990be3d"
      },
      "execution_count": null,
      "outputs": [
        {
          "output_type": "stream",
          "name": "stdout",
          "text": [
            "Generated images shape: torch.Size([500, 1, 28, 28])\n"
          ]
        }
      ]
    },
    {
      "cell_type": "code",
      "source": [
        "def generate_images(batch_size):\n",
        "\n",
        "  z = torch.randn(batch_size, latent_dim)\n",
        "\n",
        "  # For conditioning: generate random values then apply softmax to simulate a distribution\n",
        "  cond_raw = torch.randn(batch_size, num_classes)\n",
        "  cond_dist = F.softmax(cond_raw, dim=1)\n",
        "\n",
        "  # Generate images\n",
        "  gen_images = generator(z, cond_dist)\n",
        "\n",
        "  return gen_images"
      ],
      "metadata": {
        "id": "9RZoy3Fs5ycl"
      },
      "execution_count": null,
      "outputs": []
    },
    {
      "cell_type": "code",
      "source": [
        "def update_dataset(gen_images, current_dataset, batch_size):\n",
        "\n",
        "    # Check if there are any generated images\n",
        "    if gen_images is None or gen_images.size(0) == 0:\n",
        "        print(\"Warning: No generated images provided for dataset update.\")\n",
        "        return current_dataset, DataLoader(current_dataset, batch_size=batch_size, shuffle=True)\n",
        "\n",
        "    # Move generated images and labels to CPU\n",
        "    gen_images = gen_images.cpu()  # Move images to CPU\n",
        "    num_gen_samples = gen_images.size(0)\n",
        "    gen_labels = torch.full((num_gen_samples,), 10, dtype=torch.long)  # Labels are already on CPU\n",
        "\n",
        "    # Create a dataset for the generated samples\n",
        "    gen_dataset = TensorDataset(gen_images, gen_labels)\n",
        "\n",
        "    # Combine the existing dataset with the new generated dataset\n",
        "    updated_dataset = ConcatDataset([current_dataset, gen_dataset])\n",
        "\n",
        "    # Recreate the DataLoader for the updated dataset\n",
        "    train_loader = DataLoader(updated_dataset, batch_size=batch_size, shuffle=True)\n",
        "\n",
        "    return updated_dataset, train_loader"
      ],
      "metadata": {
        "id": "yC4fsRzo-j8S"
      },
      "execution_count": null,
      "outputs": []
    },
    {
      "cell_type": "markdown",
      "source": [
        "# Losses"
      ],
      "metadata": {
        "id": "WV2RdO1ooo4Y"
      }
    },
    {
      "cell_type": "code",
      "source": [
        "from collections import Counter\n",
        "import torch\n",
        "import torch.nn.functional as F\n",
        "\n",
        "# Precompute counts for in-distribution classes (0 to 9) from full MNIST\n",
        "in_dist_labels = [label for _, label in mnist_dataset]  # mnist_dataset from your earlier code\n",
        "in_dist_counts = Counter([label.item() for label in in_dist_labels])\n",
        "\n",
        "for i in range(10):\n",
        "  print(f\"class {i}:{in_dist_counts[i]}\")"
      ],
      "metadata": {
        "colab": {
          "base_uri": "https://localhost:8080/"
        },
        "id": "jQiNOFiatfnj",
        "outputId": "a857e083-865d-4f61-b515-7d1d524bd55d"
      },
      "execution_count": null,
      "outputs": [
        {
          "output_type": "stream",
          "name": "stdout",
          "text": [
            "class 0:6903\n",
            "class 1:7877\n",
            "class 2:6990\n",
            "class 3:7141\n",
            "class 4:6824\n",
            "class 5:6313\n",
            "class 6:6876\n",
            "class 7:7293\n",
            "class 8:6825\n",
            "class 9:6958\n"
          ]
        }
      ]
    },
    {
      "cell_type": "code",
      "source": [
        "from collections import Counter\n",
        "import torch\n",
        "\n",
        "def compute_dynamic_weights(static_counts, current_dataset, num_classes=11, device='cuda'):\n",
        "\n",
        "  # Count occurrences of each label in the current dataset\n",
        "  all_labels = [label.item() for _, label in current_dataset]\n",
        "  total_counts = Counter(all_labels)\n",
        "\n",
        "  # Initialize updated counts\n",
        "  updated_counts = {i: static_counts.get(i, 1) for i in range(10)}  # Ensure all classes (0-9) exist\n",
        "  updated_counts[10] = total_counts.get(10, 1)  # Avoid KeyError for class 10 (garbage)\n",
        "\n",
        "  # Compute weights\n",
        "  total_samples = sum(updated_counts.values())\n",
        "  weights = [total_samples / (num_classes * max(updated_counts[i], 1)) for i in range(num_classes)]  # Avoid division by zero\n",
        "\n",
        "  # Convert to PyTorch tensor\n",
        "  weights = torch.tensor(weights, dtype=torch.float, device=device)\n",
        "\n",
        "  return weights\n"
      ],
      "metadata": {
        "id": "vMBX40pIr5Do"
      },
      "execution_count": null,
      "outputs": []
    },
    {
      "cell_type": "code",
      "source": [
        "def weighted_cross_entropy(current_dataset, logits, target_labels):\n",
        "\n",
        "  dynamic_weights = compute_dynamic_weights(in_dist_counts, current_dataset, num_classes=11, device=device)\n",
        "  ce_loss = F.cross_entropy(logits, target_labels, weight=dynamic_weights)\n",
        "\n",
        "  return ce_loss"
      ],
      "metadata": {
        "id": "-Lb-15voqK5w"
      },
      "execution_count": null,
      "outputs": []
    },
    {
      "cell_type": "code",
      "source": [
        "def kl_divergence(logits, cond_dist):\n",
        "\n",
        "    q_dist = F.softmax(logits, dim=1)  # [B, 11]\n",
        "    num_classes = cond_dist.size(1)\n",
        "    q_sliced = q_dist[:, :num_classes]  # [B, num_classes]\n",
        "    kl_loss = torch.sum(cond_dist * torch.log((cond_dist + 1e-8) / (q_sliced + 1e-8)), dim=1).mean()\n",
        "    return kl_loss"
      ],
      "metadata": {
        "id": "AjMuWOkQAqeS"
      },
      "execution_count": null,
      "outputs": []
    },
    {
      "cell_type": "code",
      "source": [
        "def cosine_similarity(features):\n",
        "\n",
        "  # Normalize features so that cosine similarity equals the dot product.\n",
        "  normalized_features = F.normalize(features, p=2, dim=1)  # [B, D]\n",
        "  # Compute cosine similarity matrix: [B, B]\n",
        "  cos_sim_matrix = torch.matmul(normalized_features, normalized_features.t())\n",
        "  B = features.size(0)\n",
        "  # Exclude diagonal elements (self-similarity)\n",
        "  mask = torch.ones_like(cos_sim_matrix) - torch.eye(B, device=cos_sim_matrix.device)\n",
        "  cos_sim_sum = torch.sum(cos_sim_matrix * mask)\n",
        "  num_pairs = B * (B - 1)\n",
        "  cos_loss = cos_sim_sum / (num_pairs + 1e-8)\n",
        "\n",
        "  return cos_loss"
      ],
      "metadata": {
        "id": "BMbtZX_sAqay"
      },
      "execution_count": null,
      "outputs": []
    },
    {
      "cell_type": "code",
      "source": [
        "def feature_orthogonality(features):\n",
        "\n",
        "  B = features.size(0)\n",
        "  G = torch.matmul(features, features.t())  # [B, B]\n",
        "  I = torch.eye(B, device=features.device)\n",
        "  ortho_loss = F.mse_loss(G, I)\n",
        "  return ortho_loss"
      ],
      "metadata": {
        "id": "ej_BuxgAAqYX"
      },
      "execution_count": null,
      "outputs": []
    },
    {
      "cell_type": "code",
      "source": [
        "def compute_inversion_loss(gen_imgs,current_dataset, target_labels, cond_dist, model, alpha, beta, gamma, delta):\n",
        "\n",
        "    logits, features = model(gen_imgs)\n",
        "    ce_loss = weighted_cross_entropy(current_dataset, logits, target_labels)\n",
        "    kl_loss = kl_divergence(logits, cond_dist)\n",
        "    cos_loss = cosine_similarity(features)\n",
        "    ortho_loss = feature_orthogonality(features)\n",
        "\n",
        "    total_loss = alpha * kl_loss + beta * ce_loss + gamma * cos_loss + delta * ortho_loss\n",
        "    return total_loss, (ce_loss, kl_loss, cos_loss, ortho_loss)"
      ],
      "metadata": {
        "id": "EbuhbvHmAqVy"
      },
      "execution_count": null,
      "outputs": []
    },
    {
      "cell_type": "code",
      "source": [
        "import torch\n",
        "import torch.nn.functional as F\n",
        "import torch.optim as optim\n",
        "from torch.utils.data import DataLoader, ConcatDataset, TensorDataset\n",
        "from tqdm import tqdm\n",
        "import os\n",
        "import matplotlib.pyplot as plt\n",
        "\n",
        "# Hyperparameters for the inversion loss components\n",
        "alpha = 1.0   # Weight for KL divergence loss\n",
        "beta  = 1.0   # Weight for cross-entropy loss\n",
        "gamma = 1.0   # Weight for cosine similarity loss\n",
        "delta = 1.0   # Weight for feature orthogonality loss\n",
        "\n",
        "latent_dim = 100\n",
        "num_classes = 10  # Conditioning only on in-distribution classes\n",
        "batch_size = 10\n",
        "num_iterations = 11  # Total training iterations for the generator\n",
        "\n",
        "optimizer_gen = optim.Adam(generator.parameters(), lr=0.001)\n",
        "\n",
        "\n",
        "current_dataset = combined_mnist\n",
        "\n",
        "# Define checkpoint directory and path\n",
        "checkpoint_dir = \"./checkpoints\"\n",
        "os.makedirs(checkpoint_dir, exist_ok=True)\n",
        "checkpoint_path = os.path.join(checkpoint_dir, 'latest_model.pt')\n",
        "\n",
        "# (Optional) Save the initial classifier checkpoint if not already saved\n",
        "torch.save(model.state_dict(), checkpoint_path)\n",
        "\n",
        "# Training loop with tqdm progress bar\n",
        "progress_bar = tqdm(range(num_iterations), desc=\"Generator Training\", unit=\"step\")\n",
        "\n",
        "for step in progress_bar:\n",
        "    # Ensure generator is on device and in train mode\n",
        "    generator.to(device)\n",
        "    generator.train()\n",
        "\n",
        "    # 1. Sample a batch of latent vectors z\n",
        "    z = torch.randn(batch_size, latent_dim, device=device)\n",
        "\n",
        "    # 2. Generate conditioning vector: sample random values and apply softmax\n",
        "    cond_raw = torch.randn(batch_size, num_classes, device=device)\n",
        "    cond_dist = F.softmax(cond_raw, dim=1)  # Shape: [B, num_classes]\n",
        "\n",
        "    # 3. Derive target labels from conditioning (using argmax)\n",
        "    target_labels = torch.argmax(cond_dist, dim=1)  # Shape: [B]\n",
        "\n",
        "    # 4. Generate images using the generator\n",
        "    gen_imgs = generator(z, cond_dist)  # Expected shape: [B, 1, 28, 28]\n",
        "\n",
        "    # 5. Load the latest classifier checkpoint and set it to evaluation mode\n",
        "    model.load_state_dict(torch.load(checkpoint_path))\n",
        "    model.to(device)\n",
        "    model.eval()  # Freeze classifier during generator training\n",
        "\n",
        "    # 6. Compute the combined inversion loss\n",
        "    total_loss, (ce_loss, kl_loss, cos_loss, ortho_loss) = compute_inversion_loss(\n",
        "        gen_imgs,current_dataset, target_labels, cond_dist, model, alpha, beta, gamma, delta\n",
        "    )\n",
        "\n",
        "    # 7. Backpropagate and update generator parameters\n",
        "    optimizer_gen.zero_grad()\n",
        "    total_loss.backward()\n",
        "    optimizer_gen.step()\n",
        "\n",
        "    # Update progress bar every 10 steps\n",
        "    if (step + 1) % 10 == 0:\n",
        "        progress_bar.set_postfix({\n",
        "            \"Total\": total_loss.item(),\n",
        "            \"CE\": ce_loss.item(),\n",
        "            \"KL\": kl_loss.item(),\n",
        "            \"Cos\": cos_loss.item(),\n",
        "            \"Ortho\": ortho_loss.item()\n",
        "        })\n",
        "\n",
        "    # 8. Update the training dataset with generated images\n",
        "    # Use detach() to remove the computation graph and move to CPU\n",
        "    current_dataset, train_loader = update_dataset(gen_imgs.detach().cpu(), current_dataset, batch_size)\n",
        "\n",
        "    # 9. Retrain (fine-tune) the classifier every 5 iterations\n",
        "    if step > 0 and step % 5 == 0:\n",
        "        model, train_losses, train_acc = train_classifier(train_loader, checkpoint_dir, num_epochs=5)\n",
        "\n",
        "    # 10. Save the updated classifier to checkpoint\n",
        "    torch.save(model.state_dict(), checkpoint_path)\n",
        "    print(\"Classifier checkpoint saved.\")\n",
        "\n",
        "print(\"Generator training complete.\")"
      ],
      "metadata": {
        "id": "4vGe-Ih25qtK",
        "colab": {
          "base_uri": "https://localhost:8080/"
        },
        "outputId": "0f55cfed-5444-423d-8d26-5728868e6c16"
      },
      "execution_count": null,
      "outputs": [
        {
          "output_type": "stream",
          "name": "stderr",
          "text": [
            "\rGenerator Training:   0%|          | 0/11 [00:00<?, ?step/s]<ipython-input-38-db5b2a06e3bd>:55: FutureWarning: You are using `torch.load` with `weights_only=False` (the current default value), which uses the default pickle module implicitly. It is possible to construct malicious pickle data which will execute arbitrary code during unpickling (See https://github.com/pytorch/pytorch/blob/main/SECURITY.md#untrusted-models for more details). In a future release, the default value for `weights_only` will be flipped to `True`. This limits the functions that could be executed during unpickling. Arbitrary objects will no longer be allowed to be loaded via this mode unless they are explicitly allowlisted by the user via `torch.serialization.add_safe_globals`. We recommend you start setting `weights_only=True` for any use case where you don't have full control of the loaded file. Please open an issue on GitHub for any issues related to this experimental feature.\n",
            "  model.load_state_dict(torch.load(checkpoint_path))\n",
            "Generator Training:   9%|▉         | 1/11 [00:00<00:06,  1.48step/s]"
          ]
        },
        {
          "output_type": "stream",
          "name": "stdout",
          "text": [
            "Classifier checkpoint saved.\n"
          ]
        },
        {
          "output_type": "stream",
          "name": "stderr",
          "text": [
            "\rGenerator Training:  18%|█▊        | 2/11 [00:01<00:05,  1.76step/s]"
          ]
        },
        {
          "output_type": "stream",
          "name": "stdout",
          "text": [
            "Classifier checkpoint saved.\n"
          ]
        },
        {
          "output_type": "stream",
          "name": "stderr",
          "text": [
            "\rGenerator Training:  27%|██▋       | 3/11 [00:01<00:04,  1.93step/s]"
          ]
        },
        {
          "output_type": "stream",
          "name": "stdout",
          "text": [
            "Classifier checkpoint saved.\n"
          ]
        },
        {
          "output_type": "stream",
          "name": "stderr",
          "text": [
            "\rGenerator Training:  36%|███▋      | 4/11 [00:02<00:03,  1.96step/s]"
          ]
        },
        {
          "output_type": "stream",
          "name": "stdout",
          "text": [
            "Classifier checkpoint saved.\n"
          ]
        },
        {
          "output_type": "stream",
          "name": "stderr",
          "text": [
            "\rGenerator Training:  45%|████▌     | 5/11 [00:02<00:03,  1.95step/s]"
          ]
        },
        {
          "output_type": "stream",
          "name": "stdout",
          "text": [
            "Classifier checkpoint saved.\n",
            "Epoch [1/5] - Loss: 0.0682, Accuracy: 98.09%\n",
            "Epoch [2/5] - Loss: 0.0434, Accuracy: 98.76%\n",
            "Epoch [3/5] - Loss: 0.0376, Accuracy: 98.90%\n",
            "Epoch [4/5] - Loss: 0.0311, Accuracy: 99.09%\n"
          ]
        },
        {
          "output_type": "stream",
          "name": "stderr",
          "text": [
            "\rGenerator Training:  55%|█████▍    | 6/11 [01:58<03:19, 39.84s/step]"
          ]
        },
        {
          "output_type": "stream",
          "name": "stdout",
          "text": [
            "Epoch [5/5] - Loss: 0.0284, Accuracy: 99.19%\n",
            "Classifier checkpoint saved.\n"
          ]
        },
        {
          "output_type": "stream",
          "name": "stderr",
          "text": [
            "\rGenerator Training:  64%|██████▎   | 7/11 [01:59<01:48, 27.00s/step]"
          ]
        },
        {
          "output_type": "stream",
          "name": "stdout",
          "text": [
            "Classifier checkpoint saved.\n"
          ]
        },
        {
          "output_type": "stream",
          "name": "stderr",
          "text": [
            "\rGenerator Training:  73%|███████▎  | 8/11 [01:59<00:55, 18.58s/step]"
          ]
        },
        {
          "output_type": "stream",
          "name": "stdout",
          "text": [
            "Classifier checkpoint saved.\n"
          ]
        },
        {
          "output_type": "stream",
          "name": "stderr",
          "text": [
            "\rGenerator Training:  82%|████████▏ | 9/11 [02:00<00:25, 12.95s/step]"
          ]
        },
        {
          "output_type": "stream",
          "name": "stdout",
          "text": [
            "Classifier checkpoint saved.\n"
          ]
        },
        {
          "output_type": "stream",
          "name": "stderr",
          "text": [
            "Generator Training:  91%|█████████ | 10/11 [02:01<00:09,  9.13s/step, Total=7.51e+4, CE=25.1, KL=16, Cos=0.974, Ortho=7.51e+4]"
          ]
        },
        {
          "output_type": "stream",
          "name": "stdout",
          "text": [
            "Classifier checkpoint saved.\n",
            "Epoch [1/5] - Loss: 0.0266, Accuracy: 99.24%\n",
            "Epoch [2/5] - Loss: 0.0245, Accuracy: 99.30%\n",
            "Epoch [3/5] - Loss: 0.0222, Accuracy: 99.39%\n",
            "Epoch [4/5] - Loss: 0.0198, Accuracy: 99.42%\n"
          ]
        },
        {
          "output_type": "stream",
          "name": "stderr",
          "text": [
            "Generator Training: 100%|██████████| 11/11 [04:04<00:00, 22.21s/step, Total=7.51e+4, CE=25.1, KL=16, Cos=0.974, Ortho=7.51e+4]"
          ]
        },
        {
          "output_type": "stream",
          "name": "stdout",
          "text": [
            "Epoch [5/5] - Loss: 0.0208, Accuracy: 99.42%\n",
            "Classifier checkpoint saved.\n",
            "Generator training complete.\n"
          ]
        },
        {
          "output_type": "stream",
          "name": "stderr",
          "text": [
            "\n"
          ]
        }
      ]
    },
    {
      "cell_type": "code",
      "source": [
        "test_loss, test_acc = test_classifier(test_loader, model, criterion, device)\n",
        "print(f\"Test accuracy:{test_acc}\")"
      ],
      "metadata": {
        "id": "yRcY8IZPLSx2",
        "colab": {
          "base_uri": "https://localhost:8080/"
        },
        "outputId": "2278fbb9-3748-4189-e8e6-2a6a7a5afc81"
      },
      "execution_count": null,
      "outputs": [
        {
          "output_type": "stream",
          "name": "stdout",
          "text": [
            "Test Loss: 2.6739, Test Accuracy: 77.45%\n",
            "Test accuracy:77.44571428571429\n"
          ]
        }
      ]
    }
  ]
}